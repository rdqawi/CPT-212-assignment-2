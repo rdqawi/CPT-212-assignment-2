{
 "cells": [
  {
   "cell_type": "code",
   "execution_count": 4,
   "id": "17e55de1",
   "metadata": {},
   "outputs": [
    {
     "name": "stdout",
     "output_type": "stream",
     "text": [
      "Pattern found at index 13\n"
     ]
    }
   ],
   "source": [
    "def boyer_moore_horspool(text, pattern):\n",
    "    n = len(text)\n",
    "    m = len(pattern)\n",
    "    \n",
    "    # Step 1: Preprocessing Phase\n",
    "    # Initialize the shift table with the default shift value of m (length of the pattern)\n",
    "    shift = {c: m for c in set(text)}\n",
    "    \n",
    "    # Fill the shift table with actual shift values for characters in the pattern\n",
    "    for i in range(m - 1):\n",
    "        shift[pattern[i]] = m - 1 - i\n",
    "    \n",
    "    # Step 2: Search Phase\n",
    "    i = 0  # Initialize the starting index for alignment of pattern with text\n",
    "    while i <= n - m:  # Continue while the pattern is within the bounds of the text\n",
    "        j = m - 1  # Start comparing from the end of the pattern\n",
    "        \n",
    "        # Compare the pattern with the current position in the text from right to left\n",
    "        while j >= 0 and pattern[j] == text[i + j]:\n",
    "            j -= 1  # Move to the left in the pattern\n",
    "        \n",
    "        # If the pattern matches the text at the current position\n",
    "        if j == -1:\n",
    "            return i  # Pattern found, return the starting index\n",
    "        \n",
    "        # If a mismatch occurs, use the shift table to determine the shift distance\n",
    "        i += shift.get(text[i + m - 1], m)  # Default shift if character is not in shift table\n",
    "    \n",
    "    # If the pattern is not found in the text\n",
    "    return -1  # Pattern not found\n",
    "\n",
    "# Example usage\n",
    "text = \"Text example for this assignment\"\n",
    "pattern = \"for\"\n",
    "result = boyer_moore_horspool(text, pattern)\n",
    "\n",
    "if result != -1:\n",
    "    print(f\"Pattern found at index {result}\")\n",
    "else:\n",
    "    print(\"Pattern not found\")\n"
   ]
  },
  {
   "cell_type": "code",
   "execution_count": null,
   "id": "fa47d53d",
   "metadata": {},
   "outputs": [],
   "source": []
  }
 ],
 "metadata": {
  "kernelspec": {
   "display_name": "Python 3 (ipykernel)",
   "language": "python",
   "name": "python3"
  },
  "language_info": {
   "codemirror_mode": {
    "name": "ipython",
    "version": 3
   },
   "file_extension": ".py",
   "mimetype": "text/x-python",
   "name": "python",
   "nbconvert_exporter": "python",
   "pygments_lexer": "ipython3",
   "version": "3.10.9"
  }
 },
 "nbformat": 4,
 "nbformat_minor": 5
}
